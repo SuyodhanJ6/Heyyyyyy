{
 "cells": [
  {
   "cell_type": "code",
   "execution_count": 14,
   "id": "f2ea7f4d",
   "metadata": {},
   "outputs": [],
   "source": [
    "from typing import List \n",
    "def get_requirements() -> List(str):\n",
    "    with open('requirements.txt', 'r') as file:\n",
    "        requirments_list = file.readlines()\n",
    "    requirments_list:List[str] = [requirement.strip() for requirement in requirments_list]\n",
    "\n",
    "    return requirments_list\n",
    "\n",
    "def get_requirements() -> List[str]:\n",
    "    with open('requirements.txt', 'r') as file:\n",
    "        requirements = file.readlines()\n",
    "    requirements:List[str] = [requirement.strip() for requirement in requirements]\n",
    "    return requirements"
   ]
  },
  {
   "cell_type": "code",
   "execution_count": 13,
   "id": "4ce18a8d",
   "metadata": {},
   "outputs": [],
   "source": [
    "from typing import List\n",
    "\n",
    "def get_requirements() -> List[str]:\n",
    "    with open('requirements.txt', 'r') as file:\n",
    "        requirements = file.readlines()\n",
    "    requirements:List[str] = [requirement.strip() for requirement in requirements]\n",
    "    return requirements\n"
   ]
  },
  {
   "cell_type": "code",
   "execution_count": 7,
   "id": "395dd4b8",
   "metadata": {},
   "outputs": [
    {
     "data": {
      "text/plain": [
       "['pymongo==4.2.0']"
      ]
     },
     "execution_count": 7,
     "metadata": {},
     "output_type": "execute_result"
    }
   ],
   "source": [
    "get_requirements()"
   ]
  },
  {
   "cell_type": "code",
   "execution_count": null,
   "id": "32300240",
   "metadata": {},
   "outputs": [],
   "source": []
  }
 ],
 "metadata": {
  "kernelspec": {
   "display_name": "Python 3 (ipykernel)",
   "language": "python",
   "name": "python3"
  },
  "language_info": {
   "codemirror_mode": {
    "name": "ipython",
    "version": 3
   },
   "file_extension": ".py",
   "mimetype": "text/x-python",
   "name": "python",
   "nbconvert_exporter": "python",
   "pygments_lexer": "ipython3",
   "version": "3.9.12"
  }
 },
 "nbformat": 4,
 "nbformat_minor": 5
}
